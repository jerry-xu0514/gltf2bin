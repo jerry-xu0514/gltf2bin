{
 "cells": [
  {
   "cell_type": "code",
   "execution_count": 7,
   "metadata": {},
   "outputs": [],
   "source": [
    "import struct\n",
    "import numpy as np"
   ]
  },
  {
   "cell_type": "code",
   "execution_count": 17,
   "metadata": {},
   "outputs": [],
   "source": [
    "def readcharacter(data):\n",
    "    types = ['vec3', 'vec3', 'vec2', 'unsigned short', '2dfloat', '2dus', 'vec3', 'quat']\n",
    "    counter = 0\n",
    "    x = 0\n",
    "    character = [[] for i in range(0, 8)]\n",
    "    for type in types:\n",
    "        tc, tcc, tcr = 0, 0, 0\n",
    "        if type == 'vec3':\n",
    "            size = 3 * 4\n",
    "            fmt = 'fff'\n",
    "        elif type == 'vec2':\n",
    "            size = 2 * 4\n",
    "            fmt = 'ff'\n",
    "        elif type == 'quat':\n",
    "            size = 4 * 4\n",
    "            fmt = 'ffff'\n",
    "        elif type == 'unsigned short':\n",
    "            size = 2\n",
    "            fmt = 'H'\n",
    "        elif type == '2dfloat':\n",
    "            size = 4\n",
    "            fmt = 'f'\n",
    "        elif type == '2dus':\n",
    "            size = 2 \n",
    "            fmt = 'H'\n",
    "        else:\n",
    "            raise Exception('Unknown type')\n",
    "        print(type)\n",
    "        if(\"2d\" in type):\n",
    "            tcr = int.from_bytes(data[counter:counter+4], byteorder='little')\n",
    "            tcc = int.from_bytes(data[counter+4:counter+8], byteorder='little')\n",
    "            counter += 4\n",
    "        else:\n",
    "            tc = int.from_bytes(data[counter:counter+4], byteorder='little')\n",
    "        print(tcc, tcr, tc)\n",
    "        counter += 4\n",
    "        if(tcc != 0):\n",
    "            fmt = fmt * tcc\n",
    "            size *= tcc\n",
    "        print('\\t', fmt, size)\n",
    "        for i in range(tc if tcr == 0 else tcr):\n",
    "            temp = struct.unpack('<' + fmt, data[counter:counter+size])\n",
    "            counter += size\n",
    "            character[x].append(temp)\n",
    "        x += 1\n",
    "\n",
    "    return character"
   ]
  },
  {
   "cell_type": "code",
   "execution_count": 18,
   "metadata": {},
   "outputs": [
    {
     "name": "stdout",
     "output_type": "stream",
     "text": [
      "vec3\n",
      "0 0 5002\n",
      "\t fff 12\n",
      "vec3\n",
      "0 0 5002\n",
      "\t fff 12\n",
      "vec2\n",
      "0 0 5002\n",
      "\t ff 8\n",
      "unsigned short\n",
      "0 0 30000\n",
      "\t H 2\n",
      "2dfloat\n",
      "4 5002 0\n",
      "\t ffff 16\n",
      "2dus\n",
      "4 5002 0\n",
      "\t HHHH 8\n",
      "vec3\n",
      "0 0 23\n",
      "\t fff 12\n",
      "quat\n",
      "0 0 23\n",
      "\t ffff 16\n"
     ]
    }
   ],
   "source": [
    "with open(\"character - original - OD.bin\", 'rb') as f:\n",
    "    data = f.read()\n",
    "    character = readcharacter(data)"
   ]
  },
  {
   "cell_type": "code",
   "execution_count": 19,
   "metadata": {},
   "outputs": [
    {
     "name": "stdout",
     "output_type": "stream",
     "text": [
      "vec3\n",
      "0 0 27764\n",
      "\t fff 12\n",
      "vec3\n",
      "0 0 27764\n",
      "\t fff 12\n",
      "vec2\n",
      "0 0 27764\n",
      "\t ff 8\n",
      "unsigned short\n",
      "0 0 124710\n",
      "\t H 2\n",
      "2dfloat\n",
      "4 27764 0\n",
      "\t ffff 16\n",
      "2dus\n",
      "4 27764 0\n",
      "\t HHHH 8\n"
     ]
    },
    {
     "ename": "error",
     "evalue": "unpack requires a buffer of 8 bytes",
     "output_type": "error",
     "traceback": [
      "\u001b[1;31m---------------------------------------------------------------------------\u001b[0m",
      "\u001b[1;31merror\u001b[0m                                     Traceback (most recent call last)",
      "Cell \u001b[1;32mIn[19], line 3\u001b[0m\n\u001b[0;32m      1\u001b[0m \u001b[39mwith\u001b[39;00m \u001b[39mopen\u001b[39m(\u001b[39m\"\u001b[39m\u001b[39mcharacter_sofunny_model_four.bin\u001b[39m\u001b[39m\"\u001b[39m, \u001b[39m'\u001b[39m\u001b[39mrb\u001b[39m\u001b[39m'\u001b[39m) \u001b[39mas\u001b[39;00m f:\n\u001b[0;32m      2\u001b[0m     data \u001b[39m=\u001b[39m f\u001b[39m.\u001b[39mread()\n\u001b[1;32m----> 3\u001b[0m     character2 \u001b[39m=\u001b[39m readcharacter(data)\n",
      "Cell \u001b[1;32mIn[17], line 42\u001b[0m, in \u001b[0;36mreadcharacter\u001b[1;34m(data)\u001b[0m\n\u001b[0;32m     40\u001b[0m \u001b[39mprint\u001b[39m(\u001b[39m'\u001b[39m\u001b[39m\\t\u001b[39;00m\u001b[39m'\u001b[39m, fmt, size)\n\u001b[0;32m     41\u001b[0m \u001b[39mfor\u001b[39;00m i \u001b[39min\u001b[39;00m \u001b[39mrange\u001b[39m(tc \u001b[39mif\u001b[39;00m tcr \u001b[39m==\u001b[39m \u001b[39m0\u001b[39m \u001b[39melse\u001b[39;00m tcr):\n\u001b[1;32m---> 42\u001b[0m     temp \u001b[39m=\u001b[39m struct\u001b[39m.\u001b[39munpack(\u001b[39m'\u001b[39m\u001b[39m<\u001b[39m\u001b[39m'\u001b[39m \u001b[39m+\u001b[39m fmt, data[counter:counter\u001b[39m+\u001b[39msize])\n\u001b[0;32m     43\u001b[0m     counter \u001b[39m+\u001b[39m\u001b[39m=\u001b[39m size\n\u001b[0;32m     44\u001b[0m     character[x]\u001b[39m.\u001b[39mappend(temp)\n",
      "\u001b[1;31merror\u001b[0m: unpack requires a buffer of 8 bytes"
     ]
    }
   ],
   "source": [
    "with open(\"character_sofunny_model_four.bin\", 'rb') as f:\n",
    "    data = f.read()\n",
    "    character2 = readcharacter(data)"
   ]
  },
  {
   "cell_type": "code",
   "execution_count": null,
   "metadata": {},
   "outputs": [],
   "source": [
    "character2[0][:10]"
   ]
  },
  {
   "cell_type": "code",
   "execution_count": null,
   "metadata": {},
   "outputs": [],
   "source": []
  }
 ],
 "metadata": {
  "kernelspec": {
   "display_name": "Python 3",
   "language": "python",
   "name": "python3"
  },
  "language_info": {
   "codemirror_mode": {
    "name": "ipython",
    "version": 3
   },
   "file_extension": ".py",
   "mimetype": "text/x-python",
   "name": "python",
   "nbconvert_exporter": "python",
   "pygments_lexer": "ipython3",
   "version": "3.11.4"
  },
  "orig_nbformat": 4
 },
 "nbformat": 4,
 "nbformat_minor": 2
}
