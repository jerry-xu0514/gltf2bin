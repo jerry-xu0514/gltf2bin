{
 "cells": [
  {
   "cell_type": "code",
   "execution_count": 3,
   "metadata": {},
   "outputs": [],
   "source": [
    "import struct\n",
    "import numpy as np"
   ]
  },
  {
   "cell_type": "code",
   "execution_count": 4,
   "metadata": {},
   "outputs": [],
   "source": [
    "def readcharacter(data):\n",
    "    types = ['vec3', 'vec3', 'vec2', 'unsigned short', '2dfloat', '2dus', 'vec3', 'quat']\n",
    "    counter = 0\n",
    "    x = 0\n",
    "    character = [[] for i in range(0, 8)]\n",
    "    for type in types:\n",
    "        tc, tcc, tcr = 0, 0, 0\n",
    "        if type == 'vec3':\n",
    "            size = 3 * 4\n",
    "            fmt = 'fff'\n",
    "        elif type == 'vec2':\n",
    "            size = 2 * 4\n",
    "            fmt = 'ff'\n",
    "        elif type == 'quat':\n",
    "            size = 4 * 4\n",
    "            fmt = 'ffff'\n",
    "        elif type == 'unsigned short':\n",
    "            size = 2\n",
    "            fmt = 'H'\n",
    "        elif type == '2dfloat':\n",
    "            size = 4\n",
    "            fmt = 'f'\n",
    "        elif type == '2dus':\n",
    "            size = 2 \n",
    "            fmt = 'H'\n",
    "        else:\n",
    "            raise Exception('Unknown type')\n",
    "        print(type)\n",
    "        if(\"2d\" in type):\n",
    "            tcr = int.from_bytes(data[counter:counter+4], byteorder='little')\n",
    "            tcc = int.from_bytes(data[counter+4:counter+8], byteorder='little')\n",
    "            counter += 4\n",
    "        else:\n",
    "            tc = int.from_bytes(data[counter:counter+4], byteorder='little')\n",
    "        print(tcc, tcr, tc)\n",
    "        counter += 4\n",
    "        if('2d' in type):\n",
    "            break\n",
    "        if(tcc != 0):\n",
    "            fmt = fmt * tcc\n",
    "            size *= tcc\n",
    "        print('\\t', fmt, size)\n",
    "        for i in range(tc if tcr == 0 else tcr):\n",
    "            temp = struct.unpack('<' + fmt, data[counter:counter+size])\n",
    "            counter += size\n",
    "            character[x].append(temp)\n",
    "        x += 1\n",
    "        if(x == 6):\n",
    "            break\n",
    "    return character"
   ]
  },
  {
   "cell_type": "code",
   "execution_count": 5,
   "metadata": {},
   "outputs": [
    {
     "name": "stdout",
     "output_type": "stream",
     "text": [
      "vec3\n",
      "0 0 5002\n",
      "\t fff 12\n",
      "vec3\n",
      "0 0 5002\n",
      "\t fff 12\n",
      "vec2\n",
      "0 0 5002\n",
      "\t ff 8\n",
      "unsigned short\n",
      "0 0 30000\n",
      "\t H 2\n",
      "2dfloat\n",
      "4 5002 0\n"
     ]
    }
   ],
   "source": [
    "with open(\"character - original - OD.bin\", 'rb') as f:\n",
    "    data = f.read()\n",
    "    character = readcharacter(data)"
   ]
  },
  {
   "cell_type": "code",
   "execution_count": 6,
   "metadata": {},
   "outputs": [
    {
     "name": "stdout",
     "output_type": "stream",
     "text": [
      "vec3\n",
      "0 0 27764\n",
      "\t fff 12\n",
      "vec3\n",
      "0 0 27764\n",
      "\t fff 12\n",
      "vec2\n",
      "0 0 27764\n",
      "\t ff 8\n",
      "unsigned short\n",
      "0 0 124710\n",
      "\t H 2\n",
      "2dfloat\n",
      "1061076460 27764 0\n"
     ]
    }
   ],
   "source": [
    "with open(\"character_sofunny_model_four.bin\", 'rb') as f:\n",
    "    data = f.read()\n",
    "    character2 = readcharacter(data)"
   ]
  },
  {
   "cell_type": "code",
   "execution_count": null,
   "metadata": {},
   "outputs": [],
   "source": [
    "character2[0][:10]"
   ]
  },
  {
   "cell_type": "code",
   "execution_count": null,
   "metadata": {},
   "outputs": [],
   "source": []
  }
 ],
 "metadata": {
  "kernelspec": {
   "display_name": "Python 3",
   "language": "python",
   "name": "python3"
  },
  "language_info": {
   "codemirror_mode": {
    "name": "ipython",
    "version": 3
   },
   "file_extension": ".py",
   "mimetype": "text/x-python",
   "name": "python",
   "nbconvert_exporter": "python",
   "pygments_lexer": "ipython3",
   "version": "3.11.4"
  },
  "orig_nbformat": 4
 },
 "nbformat": 4,
 "nbformat_minor": 2
}
