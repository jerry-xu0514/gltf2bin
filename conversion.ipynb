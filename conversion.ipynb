{
 "cells": [
  {
   "cell_type": "code",
   "execution_count": 3,
   "metadata": {},
   "outputs": [],
   "source": [
    "import base64\n",
    "import json\n",
    "from pygltflib import GLTF2, BufferFormat\n",
    "\n",
    "DATA_URI_HEADER = \"data:application/octet-stream;base64,\""
   ]
  },
  {
   "cell_type": "code",
   "execution_count": 4,
   "metadata": {},
   "outputs": [],
   "source": [
    "gltf = GLTF2.load('all_data.gltf') "
   ]
  },
  {
   "cell_type": "code",
   "execution_count": 10,
   "metadata": {},
   "outputs": [],
   "source": [
    "position_list           = []\n",
    "normal_list             = []\n",
    "texcoord_list           = []\n",
    "triangle_indicies_list  = []\n",
    "bone_weight_list        = []\n",
    "bone_indicies_list      = []\n",
    "all_lists               = [position_list, normal_list, texcoord_list, triangle_indicies_list, bone_weight_list, bone_indicies_list]\n",
    "# bone_rest_pos           = []\n",
    "# bone_rest_rot           = []\n"
   ]
  },
  {
   "cell_type": "code",
   "execution_count": 11,
   "metadata": {},
   "outputs": [],
   "source": [
    "for mesh in gltf.meshes:\n",
    "    for primitive in mesh.primitives:\n",
    "        position_list.append(primitive.attributes.POSITION)\n",
    "        normal_list.append(primitive.attributes.NORMAL)\n",
    "        texcoord_list.append(primitive.attributes.TEXCOORD_0)\n",
    "        triangle_indicies_list.append(primitive.indices)\n",
    "        bone_weight_list.append(primitive.attributes.WEIGHTS_0)\n",
    "        bone_indicies_list.append(primitive.attributes.JOINTS_0)"
   ]
  },
  {
   "cell_type": "code",
   "execution_count": 18,
   "metadata": {},
   "outputs": [
    {
     "name": "stdout",
     "output_type": "stream",
     "text": [
      "27764\n",
      "27764\n",
      "27764\n",
      "124710\n",
      "27764\n",
      "27764\n"
     ]
    }
   ],
   "source": [
    "with open(\"character.bin\", \"wb\") as f: \n",
    "    for attributes in all_lists:\n",
    "        count = 0\n",
    "        for accessor_index in attributes:\n",
    "            count += gltf.accessors[accessor_index].count\n",
    "        f.write(count.to_bytes(4, byteorder='little', signed=False))\n",
    "            \n",
    "\n",
    "    # look through each list, add total count of the "
   ]
  },
  {
   "cell_type": "code",
   "execution_count": null,
   "metadata": {},
   "outputs": [],
   "source": []
  },
  {
   "cell_type": "code",
   "execution_count": null,
   "metadata": {},
   "outputs": [],
   "source": []
  }
 ],
 "metadata": {
  "kernelspec": {
   "display_name": "Python 3",
   "language": "python",
   "name": "python3"
  },
  "language_info": {
   "codemirror_mode": {
    "name": "ipython",
    "version": 3
   },
   "file_extension": ".py",
   "mimetype": "text/x-python",
   "name": "python",
   "nbconvert_exporter": "python",
   "pygments_lexer": "ipython3",
   "version": "3.11.4"
  },
  "orig_nbformat": 4
 },
 "nbformat": 4,
 "nbformat_minor": 2
}
