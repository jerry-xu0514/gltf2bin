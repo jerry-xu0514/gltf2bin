{
 "cells": [
  {
   "cell_type": "code",
   "execution_count": 8,
   "metadata": {},
   "outputs": [],
   "source": [
    "import base64\n",
    "import json\n",
    "from pygltflib import GLTF2, BufferFormat\n",
    "import struct\n",
    "DATA_URI_HEADER = \"data:application/octet-stream;base64,\""
   ]
  },
  {
   "cell_type": "code",
   "execution_count": 9,
   "metadata": {},
   "outputs": [],
   "source": [
    "gltf = GLTF2.load('so_funny_model_1.gltf') "
   ]
  },
  {
   "cell_type": "code",
   "execution_count": 10,
   "metadata": {},
   "outputs": [
    {
     "data": {
      "text/plain": [
       "[[0, 7, 13, 19],\n",
       " [1, 8, 14, 20],\n",
       " [2, 9, 15, 21],\n",
       " [5, 12, 18, 25],\n",
       " [4, 11, 17, 24],\n",
       " [3, 10, 16, 23]]"
      ]
     },
     "execution_count": 10,
     "metadata": {},
     "output_type": "execute_result"
    }
   ],
   "source": [
    "position_list           = []\n",
    "normal_list             = []\n",
    "texcoord_list           = []\n",
    "triangle_indicies_list  = []\n",
    "bone_weight_list        = []\n",
    "bone_indicies_list      = []\n",
    "# bone_rest_pos           = []\n",
    "# bone_rest_rot           = []\n",
    "for mesh in gltf.meshes:\n",
    "    for primitive in mesh.primitives:\n",
    "        position_list.append(primitive.attributes.POSITION)\n",
    "        normal_list.append(primitive.attributes.NORMAL)\n",
    "        texcoord_list.append(primitive.attributes.TEXCOORD_0)\n",
    "        triangle_indicies_list.append(primitive.indices)\n",
    "        bone_weight_list.append(primitive.attributes.WEIGHTS_0)\n",
    "        bone_indicies_list.append(primitive.attributes.JOINTS_0)\n",
    "\n",
    "all_lists = [position_list, normal_list, texcoord_list, triangle_indicies_list, bone_weight_list, bone_indicies_list]\n",
    "all_lists\n"
   ]
  },
  {
   "cell_type": "code",
   "execution_count": 7,
   "metadata": {},
   "outputs": [
    {
     "ename": "AttributeError",
     "evalue": "'bytes' object has no attribute 'astype'",
     "output_type": "error",
     "traceback": [
      "\u001b[1;31m---------------------------------------------------------------------------\u001b[0m",
      "\u001b[1;31mAttributeError\u001b[0m                            Traceback (most recent call last)",
      "Cell \u001b[1;32mIn[7], line 36\u001b[0m\n\u001b[0;32m     34\u001b[0m     \u001b[39mfor\u001b[39;00m start, end \u001b[39min\u001b[39;00m temp_list:\n\u001b[0;32m     35\u001b[0m         f\u001b[39m.\u001b[39mwrite(data[start:end])\n\u001b[1;32m---> 36\u001b[0m \u001b[39mprint\u001b[39m(data[\u001b[39m0\u001b[39;49m:\u001b[39m3\u001b[39;49m]\u001b[39m.\u001b[39;49mastype(\u001b[39mint\u001b[39m))\n\u001b[0;32m     40\u001b[0m \u001b[39m# look through each list, add total count of the \u001b[39;00m\n",
      "\u001b[1;31mAttributeError\u001b[0m: 'bytes' object has no attribute 'astype'"
     ]
    }
   ],
   "source": [
    "with open(\"character.bin\", \"wb\") as f: \n",
    "    uri = gltf.buffers[0].uri\n",
    "    all_data = uri.split(DATA_URI_HEADER)\n",
    "    data = uri.split(DATA_URI_HEADER)[1]\n",
    "    data = base64.b64decode(bytes(data,\"utf8\"))\n",
    "    for attributes in all_lists:\n",
    "        total_counter = 0\n",
    "        \n",
    "        #get data from uri\n",
    "\n",
    "        #start and ending bytes of each list\n",
    "        temp_list = []\n",
    "\n",
    "        for accessor_index in attributes:\n",
    "            total_counter += gltf.accessors[accessor_index].count\n",
    "            # print(\"\\t\" + str(count))\n",
    "            byteOS = gltf.accessors[accessor_index].byteOffset\n",
    "            count = gltf.accessors[accessor_index].count\n",
    "            match gltf.accessors[accessor_index].type:\n",
    "                case \"VEC3\":\n",
    "                    bytelength = count * 4 * 3\n",
    "                case \"VEC2\":\n",
    "                    bytelength = count * 4 * 2\n",
    "                case \"SCALAR\":\n",
    "                    bytelength = count * 2\n",
    "                case \"VEC4\":\n",
    "                    bytelength = count * 4 * 4\n",
    "                case _:\n",
    "                    raise Exception(\"Unknown type\")\n",
    "                    \n",
    "            temp_list.append((byteOS, byteOS + bytelength))\n",
    "        # print(total_counter)\n",
    "        f.write(total_counter.to_bytes(4, byteorder='little', signed=False))\n",
    "        for start, end in temp_list:\n",
    "            f.write(data[start:end])\n",
    "    print(data[0:3].astype(int))\n",
    "        \n",
    "            \n",
    "\n",
    "    # look through each list, add total count of the "
   ]
  },
  {
   "cell_type": "code",
   "execution_count": 27,
   "metadata": {},
   "outputs": [
    {
     "data": {
      "text/plain": [
       "73"
      ]
     },
     "execution_count": 27,
     "metadata": {},
     "output_type": "execute_result"
    }
   ],
   "source": [
    "x = gltf.nodes\n",
    "len(x)\n"
   ]
  },
  {
   "cell_type": "code",
   "execution_count": 33,
   "metadata": {},
   "outputs": [
    {
     "data": {
      "text/plain": [
       "67"
      ]
     },
     "execution_count": 33,
     "metadata": {},
     "output_type": "execute_result"
    }
   ],
   "source": [
    "all_joints = x[:-6]\n"
   ]
  },
  {
   "cell_type": "code",
   "execution_count": 53,
   "metadata": {},
   "outputs": [],
   "source": [
    "# test\n",
    "\n",
    "with open(\"character.bin\", \"wb\"):\n",
    "    f.write()"
   ]
  },
  {
   "cell_type": "code",
   "execution_count": null,
   "metadata": {},
   "outputs": [],
   "source": []
  }
 ],
 "metadata": {
  "kernelspec": {
   "display_name": "Python 3",
   "language": "python",
   "name": "python3"
  },
  "language_info": {
   "codemirror_mode": {
    "name": "ipython",
    "version": 3
   },
   "file_extension": ".py",
   "mimetype": "text/x-python",
   "name": "python",
   "nbconvert_exporter": "python",
   "pygments_lexer": "ipython3",
   "version": "3.11.4"
  },
  "orig_nbformat": 4
 },
 "nbformat": 4,
 "nbformat_minor": 2
}
